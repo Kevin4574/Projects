{
 "cells": [
  {
   "cell_type": "markdown",
   "metadata": {},
   "source": [
    "## Portfolio Exercise: Starbucks\n",
    "<br>\n",
    "\n",
    "<img src=\"https://opj.ca/wp-content/uploads/2018/02/New-Starbucks-Logo-1200x969.jpg\" width=\"200\" height=\"200\">\n",
    "<br>\n",
    "<br>\n",
    " \n",
    "#### Background Information\n",
    "\n",
    "The dataset you will be provided in this portfolio exercise was originally used as a take-home assignment provided by Starbucks for their job candidates. The data for this exercise consists of about 120,000 data points split in a 2:1 ratio among training and test files. In the experiment simulated by the data, an advertising promotion was tested to see if it would bring more customers to purchase a specific product priced at $10. Since it costs the company 0.15 to send out each promotion, it would be best to limit that promotion only to those that are most receptive to the promotion. Each data point includes one column indicating whether or not an individual was sent a promotion for the product, and one column indicating whether or not that individual eventually purchased that product. Each individual also has seven additional features associated with them, which are provided abstractly as V1-V7.\n",
    "\n",
    "#### Optimization Strategy\n",
    "\n",
    "Your task is to use the training data to understand what patterns in V1-V7 to indicate that a promotion should be provided to a user. Specifically, your goal is to maximize the following metrics:\n",
    "\n",
    "* **Incremental Response Rate (IRR)** \n",
    "\n",
    "IRR depicts how many more customers purchased the product with the promotion, as compared to if they didn't receive the promotion. Mathematically, it's the ratio of the number of purchasers in the promotion group to the total number of customers in the purchasers group (_treatment_) minus the ratio of the number of purchasers in the non-promotional group to the total number of customers in the non-promotional group (_control_).\n",
    "\n",
    "$$ IRR = \\frac{purch_{treat}}{cust_{treat}} - \\frac{purch_{ctrl}}{cust_{ctrl}} $$\n",
    "\n",
    "\n",
    "* **Net Incremental Revenue (NIR)**\n",
    "\n",
    "NIR depicts how much is made (or lost) by sending out the promotion. Mathematically, this is 10 times the total number of purchasers that received the promotion minus 0.15 times the number of promotions sent out, minus 10 times the number of purchasers who were not given the promotion.\n",
    "\n",
    "$$ NIR = (10\\cdot purch_{treat} - 0.15 \\cdot cust_{treat}) - 10 \\cdot purch_{ctrl}$$\n",
    "\n",
    "For a full description of what Starbucks provides to candidates see the [instructions available here](https://drive.google.com/open?id=18klca9Sef1Rs6q8DW4l7o349r8B70qXM).\n",
    "\n",
    "Below you can find the training data provided.  Explore the data and different optimization strategies.\n",
    "\n",
    "#### How To Test Your Strategy?\n",
    "\n",
    "When you feel like you have an optimization strategy, complete the `promotion_strategy` function to pass to the `test_results` function.  \n",
    "From past data, we know there are four possible outomes:\n",
    "\n",
    "Table of actual promotion vs. predicted promotion customers:  \n",
    "\n",
    "<table>\n",
    "<tr><th></th><th colspan = '2'>Actual</th></tr>\n",
    "<tr><th>Predicted</th><th>Yes</th><th>No</th></tr>\n",
    "<tr><th>Yes</th><td>I</td><td>II</td></tr>\n",
    "<tr><th>No</th><td>III</td><td>IV</td></tr>\n",
    "</table>\n",
    "\n",
    "The metrics are only being compared for the individuals we predict should obtain the promotion – that is, quadrants I and II.  Since the first set of individuals that receive the promotion (in the training set) receive it randomly, we can expect that quadrants I and II will have approximately equivalent participants.  \n",
    "\n",
    "Comparing quadrant I to II then gives an idea of how well your promotion strategy will work in the future. \n",
    "\n",
    "Get started by reading in the data below.  See how each variable or combination of variables along with a promotion influences the chance of purchasing.  When you feel like you have a strategy for who should receive a promotion, test your strategy against the test dataset used in the final `test_results` function."
   ]
  },
  {
   "cell_type": "markdown",
   "metadata": {},
   "source": [
    "#### My approach to the Goal：\n",
    "- 1. check Vailation of data (null value, duplicate value, etc)\n",
    "- 2. use hypothesis test to prove that people with promotion are more likly to purchase\n",
    "- 3. normalize all feature v1 to v7\n",
    "- 4. find the feature have the highest positive correlation with purchase\n",
    "- 5. find the feature have the highest positive correlation with purchase within the group who recieve promotion \n",
    "- 6. Prepare train test data for different situation\n",
    "- 7. Use SMOTE to create balanced feature and label data\n",
    "- 8. Use SMOTE to create balanced feature and label data for test\n",
    "- 9. train classification models\n",
    "- 10. test model accuray with test feature and label\n",
    "- 11. test model accuray with test treatment feature and label\n",
    "- 12. optimization1: optimize by only use the feature with positve correlation (V4 and V5)\n",
    "- 13. optimization2: randomly drop feature feature base on R_Square\n",
    "- 14. save the model\n",
    "- 15. load the model\n",
    "- 16. find:\n",
    "1. IRR,\n",
    "2. NIR,\n",
    "3. total revenue = purchase * 10 - cust * 0.15\n",
    "4. total revenue treat = purchase * 10 - cust * 0.15 | treat\n",
    "5. total revenue control = purchase * 10 - cust * 0.15 | control\n",
    "- 17 . find with model:\n",
    "1. IRR,\n",
    "2. NIR,\n",
    "3. total revenue = purchase * 10 - cust * 0.15\n",
    "4. total revenue treat = purchase * 10 - cust * 0.15 | treat\n",
    "5. total revenue control = purchase * 10 - cust * 0.15 | control\n",
    "- 18. conclusion\n",
    "- 19. conclusion"
   ]
  },
  {
   "cell_type": "code",
   "execution_count": 1,
   "metadata": {},
   "outputs": [],
   "source": [
    "# import package\n",
    "\n",
    "import pandas as pd\n",
    "import matplotlib.pyplot as plt\n",
    "import numpy as np\n",
    "import statsmodels.api as sm\n",
    "import scipy.stats as stats\n",
    "import seaborn as sns\n",
    "# import ml models\n",
    "from sklearn.linear_model import LogisticRegression\n",
    "from sklearn import svm\n",
    "from sklearn import tree\n",
    "import statsmodels.api as sm\n",
    "# import sklearn mertrics \n",
    "from sklearn.metrics import classification_report\n",
    "from sklearn.metrics import accuracy_score\n",
    "from sklearn.metrics import r2_score\n",
    "# import imbalane fixer\n",
    "from imblearn.over_sampling import SMOTE\n",
    "# import feature normalizer\n",
    "from sklearn import preprocessing\n",
    "# import joblib to save the model\n",
    "import joblib\n",
    "\n",
    "np.random.seed(42)\n",
    "\n",
    "path = r'D:\\金融股票\\教程代码\\all project from udacity\\StarBucks\\data'"
   ]
  },
  {
   "cell_type": "code",
   "execution_count": 2,
   "metadata": {},
   "outputs": [
    {
     "name": "stdout",
     "output_type": "stream",
     "text": [
      "(84534, 10)\n",
      "(41650, 10)\n"
     ]
    },
    {
     "data": {
      "text/html": [
       "<div>\n",
       "<style scoped>\n",
       "    .dataframe tbody tr th:only-of-type {\n",
       "        vertical-align: middle;\n",
       "    }\n",
       "\n",
       "    .dataframe tbody tr th {\n",
       "        vertical-align: top;\n",
       "    }\n",
       "\n",
       "    .dataframe thead th {\n",
       "        text-align: right;\n",
       "    }\n",
       "</style>\n",
       "<table border=\"1\" class=\"dataframe\">\n",
       "  <thead>\n",
       "    <tr style=\"text-align: right;\">\n",
       "      <th></th>\n",
       "      <th>ID</th>\n",
       "      <th>Promotion</th>\n",
       "      <th>purchase</th>\n",
       "      <th>V1</th>\n",
       "      <th>V2</th>\n",
       "      <th>V3</th>\n",
       "      <th>V4</th>\n",
       "      <th>V5</th>\n",
       "      <th>V6</th>\n",
       "      <th>V7</th>\n",
       "    </tr>\n",
       "  </thead>\n",
       "  <tbody>\n",
       "    <tr>\n",
       "      <th>0</th>\n",
       "      <td>1</td>\n",
       "      <td>No</td>\n",
       "      <td>0</td>\n",
       "      <td>2</td>\n",
       "      <td>30.443518</td>\n",
       "      <td>-1.165083</td>\n",
       "      <td>1</td>\n",
       "      <td>1</td>\n",
       "      <td>3</td>\n",
       "      <td>2</td>\n",
       "    </tr>\n",
       "    <tr>\n",
       "      <th>1</th>\n",
       "      <td>3</td>\n",
       "      <td>No</td>\n",
       "      <td>0</td>\n",
       "      <td>3</td>\n",
       "      <td>32.159350</td>\n",
       "      <td>-0.645617</td>\n",
       "      <td>2</td>\n",
       "      <td>3</td>\n",
       "      <td>2</td>\n",
       "      <td>2</td>\n",
       "    </tr>\n",
       "    <tr>\n",
       "      <th>2</th>\n",
       "      <td>4</td>\n",
       "      <td>No</td>\n",
       "      <td>0</td>\n",
       "      <td>2</td>\n",
       "      <td>30.431659</td>\n",
       "      <td>0.133583</td>\n",
       "      <td>1</td>\n",
       "      <td>1</td>\n",
       "      <td>4</td>\n",
       "      <td>2</td>\n",
       "    </tr>\n",
       "    <tr>\n",
       "      <th>3</th>\n",
       "      <td>5</td>\n",
       "      <td>No</td>\n",
       "      <td>0</td>\n",
       "      <td>0</td>\n",
       "      <td>26.588914</td>\n",
       "      <td>-0.212728</td>\n",
       "      <td>2</td>\n",
       "      <td>1</td>\n",
       "      <td>4</td>\n",
       "      <td>2</td>\n",
       "    </tr>\n",
       "    <tr>\n",
       "      <th>4</th>\n",
       "      <td>8</td>\n",
       "      <td>Yes</td>\n",
       "      <td>0</td>\n",
       "      <td>3</td>\n",
       "      <td>28.044331</td>\n",
       "      <td>-0.385883</td>\n",
       "      <td>1</td>\n",
       "      <td>1</td>\n",
       "      <td>2</td>\n",
       "      <td>2</td>\n",
       "    </tr>\n",
       "  </tbody>\n",
       "</table>\n",
       "</div>"
      ],
      "text/plain": [
       "   ID Promotion  purchase  V1         V2        V3  V4  V5  V6  V7\n",
       "0   1        No         0   2  30.443518 -1.165083   1   1   3   2\n",
       "1   3        No         0   3  32.159350 -0.645617   2   3   2   2\n",
       "2   4        No         0   2  30.431659  0.133583   1   1   4   2\n",
       "3   5        No         0   0  26.588914 -0.212728   2   1   4   2\n",
       "4   8       Yes         0   3  28.044331 -0.385883   1   1   2   2"
      ]
     },
     "execution_count": 2,
     "metadata": {},
     "output_type": "execute_result"
    }
   ],
   "source": [
    "# load in the data\n",
    "train = pd.read_csv(path + '\\\\training.csv')\n",
    "test = pd.read_csv(path + '\\Test.csv')\n",
    "\n",
    "print(train.shape)\n",
    "print(test.shape)\n",
    "train.head()"
   ]
  },
  {
   "cell_type": "markdown",
   "metadata": {},
   "source": [
    "### 1. check Vailation of data (null value, duplicate value, etc)"
   ]
  },
  {
   "cell_type": "code",
   "execution_count": 3,
   "metadata": {},
   "outputs": [
    {
     "data": {
      "text/plain": [
       "0"
      ]
     },
     "execution_count": 3,
     "metadata": {},
     "output_type": "execute_result"
    }
   ],
   "source": [
    "# check null\n",
    "train.isnull().sum().sum()"
   ]
  },
  {
   "cell_type": "code",
   "execution_count": 4,
   "metadata": {},
   "outputs": [
    {
     "data": {
      "text/plain": [
       "0"
      ]
     },
     "execution_count": 4,
     "metadata": {},
     "output_type": "execute_result"
    }
   ],
   "source": [
    "# check duplicate\n",
    "train.duplicated().sum()"
   ]
  },
  {
   "cell_type": "code",
   "execution_count": 5,
   "metadata": {},
   "outputs": [
    {
     "name": "stdout",
     "output_type": "stream",
     "text": [
      "number of treatment: 42364\n",
      "number of control: 42170\n",
      "Treatment/Control ratio: 1.0046004268437279\n"
     ]
    },
    {
     "data": {
      "text/plain": [
       "(42364, 42170, 1.0046004268437279)"
      ]
     },
     "execution_count": 5,
     "metadata": {},
     "output_type": "execute_result"
    }
   ],
   "source": [
    "# check the balance between control and treatment group\n",
    "# define a function to get treatment/control ratio\n",
    "def get_TC_ratio(df):\n",
    "    n_treatment = (train['Promotion'] == \"Yes\").sum()\n",
    "    n_control = (train['Promotion'] == \"No\").sum()\n",
    "    ratio = n_treatment/n_control\n",
    "    \n",
    "    print('number of treatment:',n_treatment)\n",
    "    print('number of control:',n_control)\n",
    "    print('Treatment/Control ratio:',ratio)\n",
    "\n",
    "    return n_treatment,n_control,ratio\n",
    "\n",
    "get_TC_ratio(train)"
   ]
  },
  {
   "cell_type": "markdown",
   "metadata": {},
   "source": [
    "### 2. use hypothesis test to prove that people with promotion are more likly to purchase\n",
    "\n",
    "`Method use here: Bootstrap and Central Limit Theory`\n",
    "\n",
    "`Note: in this case we only consider if people receive promotion or not, the feature  V1 - V7 is not count`\n",
    "\n",
    "In this case:\n",
    "\n",
    "H0: treat - control <= 0\n",
    "\n",
    "H1: treat - control > 0"
   ]
  },
  {
   "cell_type": "code",
   "execution_count": 6,
   "metadata": {},
   "outputs": [],
   "source": [
    "# define control and treatment group\n",
    "treatment = train.query('Promotion == \"Yes\"')\n",
    "control = train.query('Promotion == \"No\"')"
   ]
  },
  {
   "cell_type": "code",
   "execution_count": 7,
   "metadata": {},
   "outputs": [],
   "source": [
    "# get diffs = treat - ctrl\n",
    "diffs = []\n",
    "for i in range(400):\n",
    "    btreat = treatment.sample(42364,\n",
    "                              replace = True)\n",
    "    bcontrol = control.sample(42364,\n",
    "                          replace = True)\n",
    "    diff = btreat['purchase'].mean() - bcontrol['purchase'].mean()\n",
    "    \n",
    "    diffs.append(diff)"
   ]
  },
  {
   "cell_type": "code",
   "execution_count": 8,
   "metadata": {},
   "outputs": [],
   "source": [
    "# initialize null base on alt STD\n",
    "null_vals = np.random.normal(0,\n",
    "                             np.std(diffs),\n",
    "                             42364)"
   ]
  },
  {
   "cell_type": "code",
   "execution_count": 9,
   "metadata": {},
   "outputs": [
    {
     "name": "stderr",
     "output_type": "stream",
     "text": [
      "C:\\Users\\86130\\Anaconda3\\lib\\site-packages\\seaborn\\distributions.py:2619: FutureWarning: `distplot` is a deprecated function and will be removed in a future version. Please adapt your code to use either `displot` (a figure-level function with similar flexibility) or `histplot` (an axes-level function for histograms).\n",
      "  warnings.warn(msg, FutureWarning)\n",
      "C:\\Users\\86130\\Anaconda3\\lib\\site-packages\\seaborn\\distributions.py:2619: FutureWarning: `distplot` is a deprecated function and will be removed in a future version. Please adapt your code to use either `displot` (a figure-level function with similar flexibility) or `histplot` (an axes-level function for histograms).\n",
      "  warnings.warn(msg, FutureWarning)\n"
     ]
    },
    {
     "data": {
      "text/plain": [
       "Text(0.5, 1.0, 'Distribution of null and alt')"
      ]
     },
     "execution_count": 9,
     "metadata": {},
     "output_type": "execute_result"
    },
    {
     "data": {
      "image/png": "[encoded data removed]",
      "text/plain": [
       "<Figure size 432x288 with 1 Axes>"
      ]
     },
     "metadata": {
      "needs_background": "light"
     },
     "output_type": "display_data"
    }
   ],
   "source": [
    "# plot alt and null dist\n",
    "sns.distplot(diffs,\n",
    "             label='alt')\n",
    "plt.axvline(x=np.mean(diffs),\n",
    "            color = 'black',\n",
    "            label = 'alt_mean',\n",
    "            alpha = 0.5)\n",
    "\n",
    "sns.distplot(null_vals,\n",
    "             label = 'null')\n",
    "plt.axvline(x=np.percentile(null_vals,95),\n",
    "            color = 'red',\n",
    "            label = 'critical point',\n",
    "            alpha = 0.5)\n",
    "\n",
    "plt.legend()\n",
    "plt.title('Distribution of null and alt')"
   ]
  },
  {
   "cell_type": "code",
   "execution_count": 10,
   "metadata": {},
   "outputs": [],
   "source": [
    "# calculate P and z value\n",
    "def get_statistic(control_df,treatment_df,col,alternative):\n",
    "    '''\n",
    "    get the p_value and z_score base on control, treatment dataframe \n",
    "    and column we want to prove\n",
    "    \n",
    "    '''\n",
    "    # number of conversions with the control and treatment\n",
    "    convert_control = (control_df[col] == 1).sum()\n",
    "    convert_treat = (treatment_df[col] == 1).sum()\n",
    "\n",
    "    # number of individuals who were shown with the control and treatment\n",
    "    n_control = control.shape[0]\n",
    "    n_treat = treatment.shape[0]\n",
    "\n",
    "    # fill in parameters\n",
    "    number_of_success = np.array([convert_treat,convert_control])\n",
    "    total_sample_size = np.array([n_treat,n_control])\n",
    "    count = number_of_success\n",
    "    nobs = total_sample_size\n",
    "    \n",
    "    # alternative hypothesis, small = left, larger = right\n",
    "    z_score, p_value = sm.stats.proportions_ztest(count,nobs,alternative = alternative)\n",
    "    \n",
    "    return z_score,p_value"
   ]
  },
  {
   "cell_type": "code",
   "execution_count": 11,
   "metadata": {},
   "outputs": [
    {
     "name": "stdout",
     "output_type": "stream",
     "text": [
      "P-value: 12.468449461599388 and Z-score: 5.548209627035781e-36\n"
     ]
    }
   ],
   "source": [
    "p,z = get_statistic(control,treatment,'purchase','larger')\n",
    "\n",
    "print('P-value: {} and Z-score: {}'.format(p,z))"
   ]
  },
  {
   "cell_type": "code",
   "execution_count": 12,
   "metadata": {},
   "outputs": [
    {
     "data": {
      "text/plain": [
       "Ttest_indResult(statistic=246.9100469682515, pvalue=0.0)"
      ]
     },
     "execution_count": 12,
     "metadata": {},
     "output_type": "execute_result"
    }
   ],
   "source": [
    "# t-test for p\n",
    "stats.ttest_ind(diffs,\n",
    "                null_vals,\n",
    "                alternative = 'greater')"
   ]
  },
  {
   "cell_type": "markdown",
   "metadata": {},
   "source": [
    "###### Colusion for 2: \n",
    "###### Both Z-test and T-test above give us a very small p-value indicate a rejection toward null hypothesis"
   ]
  },
  {
   "cell_type": "markdown",
   "metadata": {},
   "source": [
    "### 3. normalize all feature v1 to v7"
   ]
  },
  {
   "cell_type": "code",
   "execution_count": 13,
   "metadata": {},
   "outputs": [],
   "source": [
    "for column in train.iloc[:,3:].columns:\n",
    "    train[column] = train[column] /train[column].abs().max()"
   ]
  },
  {
   "cell_type": "code",
   "execution_count": 14,
   "metadata": {},
   "outputs": [
    {
     "data": {
      "text/html": [
       "<div>\n",
       "<style scoped>\n",
       "    .dataframe tbody tr th:only-of-type {\n",
       "        vertical-align: middle;\n",
       "    }\n",
       "\n",
       "    .dataframe tbody tr th {\n",
       "        vertical-align: top;\n",
       "    }\n",
       "\n",
       "    .dataframe thead th {\n",
       "        text-align: right;\n",
       "    }\n",
       "</style>\n",
       "<table border=\"1\" class=\"dataframe\">\n",
       "  <thead>\n",
       "    <tr style=\"text-align: right;\">\n",
       "      <th></th>\n",
       "      <th>ID</th>\n",
       "      <th>Promotion</th>\n",
       "      <th>purchase</th>\n",
       "      <th>V1</th>\n",
       "      <th>V2</th>\n",
       "      <th>V3</th>\n",
       "      <th>V4</th>\n",
       "      <th>V5</th>\n",
       "      <th>V6</th>\n",
       "      <th>V7</th>\n",
       "    </tr>\n",
       "  </thead>\n",
       "  <tbody>\n",
       "    <tr>\n",
       "      <th>0</th>\n",
       "      <td>1</td>\n",
       "      <td>No</td>\n",
       "      <td>0</td>\n",
       "      <td>0.666667</td>\n",
       "      <td>0.604327</td>\n",
       "      <td>-0.688590</td>\n",
       "      <td>0.5</td>\n",
       "      <td>0.25</td>\n",
       "      <td>0.75</td>\n",
       "      <td>1.0</td>\n",
       "    </tr>\n",
       "    <tr>\n",
       "      <th>1</th>\n",
       "      <td>3</td>\n",
       "      <td>No</td>\n",
       "      <td>0</td>\n",
       "      <td>1.000000</td>\n",
       "      <td>0.638387</td>\n",
       "      <td>-0.381574</td>\n",
       "      <td>1.0</td>\n",
       "      <td>0.75</td>\n",
       "      <td>0.50</td>\n",
       "      <td>1.0</td>\n",
       "    </tr>\n",
       "    <tr>\n",
       "      <th>2</th>\n",
       "      <td>4</td>\n",
       "      <td>No</td>\n",
       "      <td>0</td>\n",
       "      <td>0.666667</td>\n",
       "      <td>0.604091</td>\n",
       "      <td>0.078951</td>\n",
       "      <td>0.5</td>\n",
       "      <td>0.25</td>\n",
       "      <td>1.00</td>\n",
       "      <td>1.0</td>\n",
       "    </tr>\n",
       "    <tr>\n",
       "      <th>3</th>\n",
       "      <td>5</td>\n",
       "      <td>No</td>\n",
       "      <td>0</td>\n",
       "      <td>0.000000</td>\n",
       "      <td>0.527810</td>\n",
       "      <td>-0.125727</td>\n",
       "      <td>1.0</td>\n",
       "      <td>0.25</td>\n",
       "      <td>1.00</td>\n",
       "      <td>1.0</td>\n",
       "    </tr>\n",
       "    <tr>\n",
       "      <th>4</th>\n",
       "      <td>8</td>\n",
       "      <td>Yes</td>\n",
       "      <td>0</td>\n",
       "      <td>1.000000</td>\n",
       "      <td>0.556701</td>\n",
       "      <td>-0.228066</td>\n",
       "      <td>0.5</td>\n",
       "      <td>0.25</td>\n",
       "      <td>0.50</td>\n",
       "      <td>1.0</td>\n",
       "    </tr>\n",
       "  </tbody>\n",
       "</table>\n",
       "</div>"
      ],
      "text/plain": [
       "   ID Promotion  purchase        V1        V2        V3   V4    V5    V6   V7\n",
       "0   1        No         0  0.666667  0.604327 -0.688590  0.5  0.25  0.75  1.0\n",
       "1   3        No         0  1.000000  0.638387 -0.381574  1.0  0.75  0.50  1.0\n",
       "2   4        No         0  0.666667  0.604091  0.078951  0.5  0.25  1.00  1.0\n",
       "3   5        No         0  0.000000  0.527810 -0.125727  1.0  0.25  1.00  1.0\n",
       "4   8       Yes         0  1.000000  0.556701 -0.228066  0.5  0.25  0.50  1.0"
      ]
     },
     "execution_count": 14,
     "metadata": {},
     "output_type": "execute_result"
    }
   ],
   "source": [
    "train.head()"
   ]
  },
  {
   "cell_type": "markdown",
   "metadata": {},
   "source": [
    "### 4.find the feature have the highest positive correlation with purchase"
   ]
  },
  {
   "cell_type": "code",
   "execution_count": 15,
   "metadata": {},
   "outputs": [],
   "source": [
    "# plot correlation heatmap\n",
    "def correlation_matrix(df):\n",
    "    cols = df.iloc[:,2:].columns\n",
    "    corrs = np.corrcoef(df[cols].values.T)\n",
    "    sns.set(font_scale=1)\n",
    "    sns.set(rc={'figure.figsize':(7,7)})\n",
    "    sns.heatmap(corrs, cbar = True, annot=True, square = True, fmt = '.2f',\n",
    "                  yticklabels = cols, xticklabels = cols).set_title('Correlations heatmap')"
   ]
  },
  {
   "cell_type": "code",
   "execution_count": 16,
   "metadata": {},
   "outputs": [
    {
     "name": "stdout",
     "output_type": "stream",
     "text": [
      "correlation:\n",
      "          purchase        V1        V2        V3        V4        V5  \\\n",
      "purchase       1.0 -0.004906 -0.001694 -0.006395  0.032245  0.007814   \n",
      "\n",
      "                V6        V7  \n",
      "purchase -0.001538 -0.001117  \n"
     ]
    },
    {
     "data": {
      "image/png": "[encoded data removed]",
      "text/plain": [
       "<Figure size 504x504 with 2 Axes>"
      ]
     },
     "metadata": {},
     "output_type": "display_data"
    }
   ],
   "source": [
    "print('correlation:')\n",
    "print(train.iloc[:,2:].corr().head(1))\n",
    "\n",
    "correlation_matrix(train)"
   ]
  },
  {
   "cell_type": "code",
   "execution_count": 17,
   "metadata": {},
   "outputs": [
    {
     "data": {
      "text/plain": [
       "Text(0.5, 1.0, 'Feature Correlations')"
      ]
     },
     "execution_count": 17,
     "metadata": {},
     "output_type": "execute_result"
    },
    {
     "data": {
      "image/png": "[encoded data removed]",
      "text/plain": [
       "<Figure size 504x504 with 1 Axes>"
      ]
     },
     "metadata": {},
     "output_type": "display_data"
    }
   ],
   "source": [
    "train.iloc[:,2:].corr()['purchase'].sort_values(ascending = False)[1:].plot(kind = 'barh')\n",
    "\n",
    "plt.title('Feature Correlations')"
   ]
  },
  {
   "cell_type": "markdown",
   "metadata": {},
   "source": [
    "###### base on feature correlation with all train only `V5` and `V4` have a positive correlation"
   ]
  },
  {
   "cell_type": "markdown",
   "metadata": {},
   "source": [
    "### 5. find the feature have the highest positive correlation with purchase within the group who recieve promotion"
   ]
  },
  {
   "cell_type": "code",
   "execution_count": 18,
   "metadata": {},
   "outputs": [],
   "source": [
    "# plot correlation heatmap\n",
    "def correlation_matrix(df):\n",
    "    cols = df.iloc[:,2:].columns\n",
    "    corrs = np.corrcoef(df[cols].values.T)\n",
    "    sns.set(font_scale=1)\n",
    "    sns.set(rc={'figure.figsize':(7,7)})\n",
    "    sns.heatmap(corrs, cbar = True, annot=True, square = True, fmt = '.2f',\n",
    "                  yticklabels = cols, xticklabels = cols).set_title('Correlations heatmap')"
   ]
  },
  {
   "cell_type": "code",
   "execution_count": 19,
   "metadata": {},
   "outputs": [
    {
     "name": "stdout",
     "output_type": "stream",
     "text": [
      "correlation:\n",
      "          purchase        V1        V2        V3        V4        V5  \\\n",
      "purchase       1.0 -0.004651 -0.002885 -0.017012  0.053348  0.011711   \n",
      "\n",
      "                V6        V7  \n",
      "purchase -0.002049 -0.005005  \n"
     ]
    },
    {
     "data": {
      "image/png": "[encoded data removed]",
      "text/plain": [
       "<Figure size 504x504 with 2 Axes>"
      ]
     },
     "metadata": {},
     "output_type": "display_data"
    }
   ],
   "source": [
    "print('correlation:')\n",
    "print(treatment.iloc[:,2:].corr().head(1))\n",
    "\n",
    "correlation_matrix(treatment)"
   ]
  },
  {
   "cell_type": "code",
   "execution_count": 20,
   "metadata": {},
   "outputs": [
    {
     "data": {
      "text/plain": [
       "Text(0.5, 1.0, 'Feature Correlations')"
      ]
     },
     "execution_count": 20,
     "metadata": {},
     "output_type": "execute_result"
    },
    {
     "data": {
      "image/png": "[encoded data removed]",
      "text/plain": [
       "<Figure size 504x504 with 1 Axes>"
      ]
     },
     "metadata": {},
     "output_type": "display_data"
    }
   ],
   "source": [
    "treatment.iloc[:,2:].corr()['purchase'].sort_values(ascending = False)[1:].plot(kind = 'barh')\n",
    "\n",
    "plt.title('Feature Correlations')"
   ]
  },
  {
   "cell_type": "markdown",
   "metadata": {},
   "source": [
    "###### base on feature correlation with all treatment only `V5` and `V4` have a positive correlation"
   ]
  },
  {
   "cell_type": "markdown",
   "metadata": {},
   "source": [
    "### 6. Prepare train test data for different situation"
   ]
  },
  {
   "cell_type": "code",
   "execution_count": 21,
   "metadata": {},
   "outputs": [],
   "source": [
    "# define feature and label for train\n",
    "feature_train = treatment.iloc[:,3:]\n",
    "label_train = treatment['purchase']"
   ]
  },
  {
   "cell_type": "code",
   "execution_count": 22,
   "metadata": {},
   "outputs": [],
   "source": [
    "# define feature and label for test all\n",
    "feature_test = test.iloc[:,3:]\n",
    "label_test = test['purchase']"
   ]
  },
  {
   "cell_type": "code",
   "execution_count": 23,
   "metadata": {},
   "outputs": [],
   "source": [
    "# define feature and label for test treatment\n",
    "feature_test_treat = test.query('Promotion == \"Yes\"').iloc[:,3:]\n",
    "label_test_treat = test.query('Promotion == \"Yes\"')['purchase']"
   ]
  },
  {
   "cell_type": "markdown",
   "metadata": {},
   "source": [
    "### 7. Use SMOTE to create balanced feature and label data for train"
   ]
  },
  {
   "cell_type": "code",
   "execution_count": 24,
   "metadata": {},
   "outputs": [
    {
     "data": {
      "text/plain": [
       "0    41643\n",
       "1      721\n",
       "Name: purchase, dtype: int64"
      ]
     },
     "execution_count": 24,
     "metadata": {},
     "output_type": "execute_result"
    }
   ],
   "source": [
    "# check imbalance, if balance we do not need to apply smote\n",
    "label_train.value_counts()"
   ]
  },
  {
   "cell_type": "code",
   "execution_count": 25,
   "metadata": {},
   "outputs": [],
   "source": [
    "# use SMOTE to balance imbalance dataset\n",
    "smote = SMOTE(sampling_strategy = 'minority')\n",
    "\n",
    "feature_train_sm, label_train_sm = smote.fit_sample(feature_train,\n",
    "                                                    label_train)"
   ]
  },
  {
   "cell_type": "code",
   "execution_count": 26,
   "metadata": {},
   "outputs": [
    {
     "data": {
      "text/plain": [
       "0    41643\n",
       "1    41643\n",
       "Name: purchase, dtype: int64"
      ]
     },
     "execution_count": 26,
     "metadata": {},
     "output_type": "execute_result"
    }
   ],
   "source": [
    "# check the data balance after smote\n",
    "label_train_sm.value_counts()"
   ]
  },
  {
   "cell_type": "markdown",
   "metadata": {},
   "source": [
    "### 8. Use SMOTE to create balanced feature and label data for test"
   ]
  },
  {
   "cell_type": "markdown",
   "metadata": {},
   "source": [
    "- for feature and label for test all"
   ]
  },
  {
   "cell_type": "code",
   "execution_count": 27,
   "metadata": {},
   "outputs": [
    {
     "data": {
      "text/plain": [
       "0    41170\n",
       "1      480\n",
       "Name: purchase, dtype: int64"
      ]
     },
     "execution_count": 27,
     "metadata": {},
     "output_type": "execute_result"
    }
   ],
   "source": [
    "# check imbalance, if balance we do not need to apply smote\n",
    "label_test.value_counts()"
   ]
  },
  {
   "cell_type": "code",
   "execution_count": 28,
   "metadata": {},
   "outputs": [],
   "source": [
    "# use SMOTE to balance imbalance dataset\n",
    "smote = SMOTE(sampling_strategy = 'minority')\n",
    "\n",
    "feature_test_sm, label_test_sm = smote.fit_sample(feature_test,\n",
    "                                                    label_test)"
   ]
  },
  {
   "cell_type": "code",
   "execution_count": 29,
   "metadata": {},
   "outputs": [
    {
     "data": {
      "text/plain": [
       "0    41170\n",
       "1    41170\n",
       "Name: purchase, dtype: int64"
      ]
     },
     "execution_count": 29,
     "metadata": {},
     "output_type": "execute_result"
    }
   ],
   "source": [
    "# check the data balance after smote\n",
    "label_test_sm.value_counts()"
   ]
  },
  {
   "cell_type": "markdown",
   "metadata": {},
   "source": [
    "- for feature and label for test treatment"
   ]
  },
  {
   "cell_type": "code",
   "execution_count": 30,
   "metadata": {},
   "outputs": [
    {
     "data": {
      "text/plain": [
       "0    20409\n",
       "1      339\n",
       "Name: purchase, dtype: int64"
      ]
     },
     "execution_count": 30,
     "metadata": {},
     "output_type": "execute_result"
    }
   ],
   "source": [
    "# check imbalance, if balance we do not need to apply smote\n",
    "label_test_treat.value_counts()"
   ]
  },
  {
   "cell_type": "code",
   "execution_count": 31,
   "metadata": {},
   "outputs": [],
   "source": [
    "# use SMOTE to balance imbalance dataset\n",
    "smote = SMOTE(sampling_strategy = 'minority')\n",
    "\n",
    "feature_test_treat_sm, label_test_treat_sm = smote.fit_sample(feature_test_treat,\n",
    "                                                    label_test_treat)"
   ]
  },
  {
   "cell_type": "code",
   "execution_count": 32,
   "metadata": {},
   "outputs": [
    {
     "data": {
      "text/plain": [
       "0    20409\n",
       "1    20409\n",
       "Name: purchase, dtype: int64"
      ]
     },
     "execution_count": 32,
     "metadata": {},
     "output_type": "execute_result"
    }
   ],
   "source": [
    "# check the data balance after smote\n",
    "label_test_treat_sm.value_counts()"
   ]
  },
  {
   "cell_type": "markdown",
   "metadata": {},
   "source": [
    "### 9. train classification models\n",
    "\n",
    "- 1. Logit\n",
    "- 2. SVM\n",
    "- 3. Decision Tree"
   ]
  },
  {
   "cell_type": "markdown",
   "metadata": {},
   "source": [
    "`1. Logit`"
   ]
  },
  {
   "cell_type": "code",
   "execution_count": 33,
   "metadata": {},
   "outputs": [
    {
     "data": {
      "text/plain": [
       "LogisticRegression()"
      ]
     },
     "execution_count": 33,
     "metadata": {},
     "output_type": "execute_result"
    }
   ],
   "source": [
    "# deploy regression and fit regression\n",
    "logit = LogisticRegression()\n",
    "logit.fit(feature_train_sm,label_train_sm)"
   ]
  },
  {
   "cell_type": "markdown",
   "metadata": {},
   "source": [
    "`2. SVM`"
   ]
  },
  {
   "cell_type": "code",
   "execution_count": null,
   "metadata": {},
   "outputs": [],
   "source": [
    "clf_rbf = svm.SVC(kernel = 'rbf')\n",
    "clf_rbf.fit(feature_train_sm,label_train_sm)"
   ]
  },
  {
   "cell_type": "markdown",
   "metadata": {},
   "source": [
    "`3. Decision Tree`"
   ]
  },
  {
   "cell_type": "code",
   "execution_count": 34,
   "metadata": {},
   "outputs": [
    {
     "data": {
      "text/plain": [
       "DecisionTreeClassifier()"
      ]
     },
     "execution_count": 34,
     "metadata": {},
     "output_type": "execute_result"
    }
   ],
   "source": [
    "model_tree = tree.DecisionTreeClassifier()\n",
    "\n",
    "model_tree.fit(feature_train_sm,label_train_sm)"
   ]
  },
  {
   "cell_type": "markdown",
   "metadata": {},
   "source": [
    "### 10. test model accuray with test feature and label"
   ]
  },
  {
   "cell_type": "markdown",
   "metadata": {},
   "source": [
    "`1. Logit`"
   ]
  },
  {
   "cell_type": "code",
   "execution_count": 35,
   "metadata": {},
   "outputs": [
    {
     "name": "stdout",
     "output_type": "stream",
     "text": [
      "Prediction of label:\n",
      "[0 1 1 ... 0 0 1]\n"
     ]
    }
   ],
   "source": [
    "# get prediction base one training data feature\n",
    "print('Prediction of label:')\n",
    "label_pred = logit.predict(feature_test_sm)\n",
    "\n",
    "print(label_pred)"
   ]
  },
  {
   "cell_type": "code",
   "execution_count": 36,
   "metadata": {},
   "outputs": [
    {
     "name": "stdout",
     "output_type": "stream",
     "text": [
      "Accuary/score 0.6069832402234637\n",
      "Accuary/score 0.6069832402234637\n"
     ]
    }
   ],
   "source": [
    "# print out accuary\n",
    "print('Accuary/score',accuracy_score(label_pred,label_test_sm))\n",
    "print('Accuary/score',logit.score(feature_test_sm,label_test_sm))"
   ]
  },
  {
   "cell_type": "code",
   "execution_count": 37,
   "metadata": {},
   "outputs": [
    {
     "name": "stdout",
     "output_type": "stream",
     "text": [
      "              precision    recall  f1-score   support\n",
      "\n",
      "           0       0.62      0.57      0.59     41170\n",
      "           1       0.60      0.65      0.62     41170\n",
      "\n",
      "    accuracy                           0.61     82340\n",
      "   macro avg       0.61      0.61      0.61     82340\n",
      "weighted avg       0.61      0.61      0.61     82340\n",
      "\n"
     ]
    }
   ],
   "source": [
    "# Print classification report on test data\n",
    "print(classification_report(label_test_sm,\n",
    "                            label_pred))"
   ]
  },
  {
   "cell_type": "markdown",
   "metadata": {},
   "source": [
    "`2. SVM`"
   ]
  },
  {
   "cell_type": "code",
   "execution_count": null,
   "metadata": {},
   "outputs": [],
   "source": [
    "# get prediction base one training data feature\n",
    "print('Prediction of label:')\n",
    "label_pred = clf_rbf.predict(feature_test_sm)\n",
    "\n",
    "print(label_pred)"
   ]
  },
  {
   "cell_type": "code",
   "execution_count": null,
   "metadata": {},
   "outputs": [],
   "source": [
    "# print out accuary\n",
    "print('Accuary/score',accuracy_score(label_pred,label_test_sm))\n",
    "print('Accuary/score',clf_rbf.score(feature_test_sm,label_test_sm))"
   ]
  },
  {
   "cell_type": "code",
   "execution_count": null,
   "metadata": {},
   "outputs": [],
   "source": [
    "# Print classification report on test data\n",
    "print(classification_report(label_test_sm,\n",
    "                            label_pred))"
   ]
  },
  {
   "cell_type": "markdown",
   "metadata": {},
   "source": [
    "`3. Decision Tree`"
   ]
  },
  {
   "cell_type": "code",
   "execution_count": 38,
   "metadata": {},
   "outputs": [
    {
     "name": "stdout",
     "output_type": "stream",
     "text": [
      "Prediction of label:\n",
      "[0 0 0 ... 0 0 1]\n"
     ]
    }
   ],
   "source": [
    "# get prediction base one training data feature\n",
    "print('Prediction of label:')\n",
    "label_pred = model_tree.predict(feature_test_sm)\n",
    "\n",
    "print(label_pred)"
   ]
  },
  {
   "cell_type": "code",
   "execution_count": 39,
   "metadata": {},
   "outputs": [
    {
     "name": "stdout",
     "output_type": "stream",
     "text": [
      "Accuary/score 0.689276171969881\n",
      "Accuary/score 0.689276171969881\n"
     ]
    }
   ],
   "source": [
    "# print out accuary\n",
    "print('Accuary/score',accuracy_score(label_pred,label_test_sm))\n",
    "print('Accuary/score',model_tree.score(feature_test_sm,label_test_sm))"
   ]
  },
  {
   "cell_type": "code",
   "execution_count": 40,
   "metadata": {},
   "outputs": [
    {
     "name": "stdout",
     "output_type": "stream",
     "text": [
      "              precision    recall  f1-score   support\n",
      "\n",
      "           0       0.63      0.95      0.75     41170\n",
      "           1       0.89      0.43      0.58     41170\n",
      "\n",
      "    accuracy                           0.69     82340\n",
      "   macro avg       0.76      0.69      0.67     82340\n",
      "weighted avg       0.76      0.69      0.67     82340\n",
      "\n"
     ]
    }
   ],
   "source": [
    "# Print classification report on test data\n",
    "print(classification_report(label_test_sm,\n",
    "                            label_pred))"
   ]
  },
  {
   "cell_type": "markdown",
   "metadata": {},
   "source": [
    "### 11. test model accuray with test treatment feature and label"
   ]
  },
  {
   "cell_type": "markdown",
   "metadata": {},
   "source": [
    "`1. Logit`"
   ]
  },
  {
   "cell_type": "code",
   "execution_count": 41,
   "metadata": {},
   "outputs": [
    {
     "name": "stdout",
     "output_type": "stream",
     "text": [
      "Prediction of label:\n",
      "[1 1 1 ... 1 0 1]\n"
     ]
    }
   ],
   "source": [
    "# get prediction base one training data feature\n",
    "print('Prediction of label:')\n",
    "label_pred = logit.predict(feature_test_treat_sm)\n",
    "\n",
    "print(label_pred)"
   ]
  },
  {
   "cell_type": "code",
   "execution_count": 42,
   "metadata": {},
   "outputs": [
    {
     "name": "stdout",
     "output_type": "stream",
     "text": [
      "Accuary/score 0.629183203488657\n",
      "Accuary/score 0.629183203488657\n"
     ]
    }
   ],
   "source": [
    "# print out accuary\n",
    "print('Accuary/score',accuracy_score(label_pred,label_test_treat_sm))\n",
    "print('Accuary/score',logit.score(feature_test_treat_sm,label_test_treat_sm))"
   ]
  },
  {
   "cell_type": "code",
   "execution_count": 43,
   "metadata": {},
   "outputs": [
    {
     "name": "stdout",
     "output_type": "stream",
     "text": [
      "              precision    recall  f1-score   support\n",
      "\n",
      "           0       0.65      0.57      0.61     20409\n",
      "           1       0.62      0.69      0.65     20409\n",
      "\n",
      "    accuracy                           0.63     40818\n",
      "   macro avg       0.63      0.63      0.63     40818\n",
      "weighted avg       0.63      0.63      0.63     40818\n",
      "\n"
     ]
    }
   ],
   "source": [
    "# Print classification report on test data\n",
    "print(classification_report(label_test_treat_sm,\n",
    "                            label_pred))"
   ]
  },
  {
   "cell_type": "markdown",
   "metadata": {},
   "source": [
    "`2. SVM`"
   ]
  },
  {
   "cell_type": "code",
   "execution_count": null,
   "metadata": {},
   "outputs": [],
   "source": [
    "# get prediction base one training data feature\n",
    "print('Prediction of label:')\n",
    "label_pred = clf_rbf.predict(feature_test_treat_sm)\n",
    "\n",
    "print(label_pred)"
   ]
  },
  {
   "cell_type": "code",
   "execution_count": null,
   "metadata": {},
   "outputs": [],
   "source": [
    "# print out accuary\n",
    "print('Accuary/score',accuracy_score(label_pred,label_test_treat_sm))\n",
    "print('Accuary/score',clf_rbf.score(feature_test_treat_sm,label_test_treat_sm))"
   ]
  },
  {
   "cell_type": "code",
   "execution_count": null,
   "metadata": {},
   "outputs": [],
   "source": [
    "# Print classification report on test data\n",
    "print(classification_report(label_test_treat_sm,\n",
    "                            label_pred))"
   ]
  },
  {
   "cell_type": "markdown",
   "metadata": {},
   "source": [
    "`3. Decision Tree`"
   ]
  },
  {
   "cell_type": "code",
   "execution_count": 44,
   "metadata": {},
   "outputs": [
    {
     "name": "stdout",
     "output_type": "stream",
     "text": [
      "Prediction of label:\n",
      "[0 0 0 ... 0 1 0]\n"
     ]
    }
   ],
   "source": [
    "# get prediction base one training data feature\n",
    "print('Prediction of label:')\n",
    "label_pred = model_tree.predict(feature_test_treat_sm)\n",
    "\n",
    "print(label_pred)"
   ]
  },
  {
   "cell_type": "code",
   "execution_count": 45,
   "metadata": {},
   "outputs": [
    {
     "name": "stdout",
     "output_type": "stream",
     "text": [
      "Accuary/score 0.7030231760497819\n",
      "Accuary/score 0.7030231760497819\n"
     ]
    }
   ],
   "source": [
    "# print out accuary\n",
    "print('Accuary/score',accuracy_score(label_pred,label_test_treat_sm))\n",
    "print('Accuary/score',model_tree.score(feature_test_treat_sm,label_test_treat_sm))"
   ]
  },
  {
   "cell_type": "code",
   "execution_count": 46,
   "metadata": {},
   "outputs": [
    {
     "name": "stdout",
     "output_type": "stream",
     "text": [
      "              precision    recall  f1-score   support\n",
      "\n",
      "           0       0.64      0.95      0.76     20409\n",
      "           1       0.89      0.46      0.61     20409\n",
      "\n",
      "    accuracy                           0.70     40818\n",
      "   macro avg       0.77      0.70      0.68     40818\n",
      "weighted avg       0.77      0.70      0.68     40818\n",
      "\n"
     ]
    }
   ],
   "source": [
    "# Print classification report on test data\n",
    "print(classification_report(label_test_treat_sm,\n",
    "                            label_pred))"
   ]
  },
  {
   "cell_type": "markdown",
   "metadata": {},
   "source": [
    "### Base on the model score for test and test treatment decision tree seems to be the best model"
   ]
  },
  {
   "cell_type": "markdown",
   "metadata": {},
   "source": [
    "### 12. optimization1: optimize by only use the feature with positve correlation (V4 and V5)"
   ]
  },
  {
   "cell_type": "markdown",
   "metadata": {},
   "source": [
    "- fit tree with only feature = V4 and V5"
   ]
  },
  {
   "cell_type": "code",
   "execution_count": 47,
   "metadata": {},
   "outputs": [
    {
     "data": {
      "text/plain": [
       "DecisionTreeClassifier()"
      ]
     },
     "execution_count": 47,
     "metadata": {},
     "output_type": "execute_result"
    }
   ],
   "source": [
    "Newtree = tree.DecisionTreeClassifier()\n",
    "Newtree.fit(feature_train_sm[['V4','V5']],label_train_sm)"
   ]
  },
  {
   "cell_type": "markdown",
   "metadata": {},
   "source": [
    "- test the model for test data"
   ]
  },
  {
   "cell_type": "code",
   "execution_count": 48,
   "metadata": {},
   "outputs": [
    {
     "name": "stdout",
     "output_type": "stream",
     "text": [
      "Prediction of label:\n",
      "[0 0 1 ... 1 1 0]\n"
     ]
    }
   ],
   "source": [
    "# get prediction base one training data feature\n",
    "print('Prediction of label:')\n",
    "label_pred = Newtree.predict(feature_test_sm[['V4','V5']])\n",
    "\n",
    "print(label_pred)"
   ]
  },
  {
   "cell_type": "code",
   "execution_count": 49,
   "metadata": {},
   "outputs": [
    {
     "name": "stdout",
     "output_type": "stream",
     "text": [
      "Accuary/score 0.5861671119747389\n",
      "Accuary/score 0.5861671119747389\n"
     ]
    }
   ],
   "source": [
    "# print out accuary\n",
    "print('Accuary/score',accuracy_score(label_pred,label_test_sm))\n",
    "print('Accuary/score',Newtree.score(feature_test_sm[['V4','V5']],label_test_sm))"
   ]
  },
  {
   "cell_type": "code",
   "execution_count": 50,
   "metadata": {},
   "outputs": [
    {
     "name": "stdout",
     "output_type": "stream",
     "text": [
      "              precision    recall  f1-score   support\n",
      "\n",
      "           0       0.58      0.62      0.60     41170\n",
      "           1       0.59      0.56      0.57     41170\n",
      "\n",
      "    accuracy                           0.59     82340\n",
      "   macro avg       0.59      0.59      0.59     82340\n",
      "weighted avg       0.59      0.59      0.59     82340\n",
      "\n"
     ]
    }
   ],
   "source": [
    "# Print classification report on test data\n",
    "print(classification_report(label_test_sm,\n",
    "                            label_pred))"
   ]
  },
  {
   "cell_type": "markdown",
   "metadata": {},
   "source": [
    "- fit for test treatment"
   ]
  },
  {
   "cell_type": "code",
   "execution_count": 51,
   "metadata": {},
   "outputs": [
    {
     "name": "stdout",
     "output_type": "stream",
     "text": [
      "Prediction of label:\n",
      "[0 1 1 ... 1 0 0]\n"
     ]
    }
   ],
   "source": [
    "# get prediction base one training data feature\n",
    "print('Prediction of label:')\n",
    "label_pred = Newtree.predict(feature_test_treat_sm[['V4','V5']])\n",
    "\n",
    "print(label_pred)"
   ]
  },
  {
   "cell_type": "code",
   "execution_count": 52,
   "metadata": {},
   "outputs": [
    {
     "name": "stdout",
     "output_type": "stream",
     "text": [
      "Accuary/score 0.6235729335097261\n",
      "Accuary/score 0.6235729335097261\n"
     ]
    }
   ],
   "source": [
    "# print out accuary\n",
    "print('Accuary/score',accuracy_score(label_pred,label_test_treat_sm))\n",
    "print('Accuary/score',Newtree.score(feature_test_treat_sm[['V4','V5']],label_test_treat_sm))"
   ]
  },
  {
   "cell_type": "code",
   "execution_count": 53,
   "metadata": {},
   "outputs": [
    {
     "name": "stdout",
     "output_type": "stream",
     "text": [
      "              precision    recall  f1-score   support\n",
      "\n",
      "           0       0.62      0.62      0.62     20409\n",
      "           1       0.62      0.63      0.62     20409\n",
      "\n",
      "    accuracy                           0.62     40818\n",
      "   macro avg       0.62      0.62      0.62     40818\n",
      "weighted avg       0.62      0.62      0.62     40818\n",
      "\n"
     ]
    }
   ],
   "source": [
    "# Print classification report on test data\n",
    "print(classification_report(label_test_treat_sm,\n",
    "                            label_pred))"
   ]
  },
  {
   "cell_type": "markdown",
   "metadata": {},
   "source": [
    "#### As the test result above by only keep feature with positive correlation do not result in better score."
   ]
  },
  {
   "cell_type": "markdown",
   "metadata": {},
   "source": [
    "### 13. optimization2: randomly drop feature feature base on R_Square"
   ]
  },
  {
   "cell_type": "markdown",
   "metadata": {},
   "source": [
    "- get R_Square for un-optimized model"
   ]
  },
  {
   "cell_type": "markdown",
   "metadata": {},
   "source": [
    "`for test`"
   ]
  },
  {
   "cell_type": "code",
   "execution_count": 54,
   "metadata": {},
   "outputs": [
    {
     "data": {
      "text/plain": [
       "0.7030231760497819"
      ]
     },
     "execution_count": 54,
     "metadata": {},
     "output_type": "execute_result"
    }
   ],
   "source": [
    "model_tree.score(feature_test_treat_sm,label_test_treat_sm)"
   ]
  },
  {
   "cell_type": "markdown",
   "metadata": {},
   "source": [
    "`for test treat`"
   ]
  },
  {
   "cell_type": "code",
   "execution_count": 55,
   "metadata": {},
   "outputs": [
    {
     "data": {
      "text/plain": [
       "0.689276171969881"
      ]
     },
     "execution_count": 55,
     "metadata": {},
     "output_type": "execute_result"
    }
   ],
   "source": [
    "model_tree.score(feature_test_sm,label_test_sm)"
   ]
  },
  {
   "cell_type": "code",
   "execution_count": 56,
   "metadata": {},
   "outputs": [
    {
     "data": {
      "text/plain": [
       "Index(['V1', 'V2', 'V3', 'V4', 'V5', 'V6', 'V7'], dtype='object')"
      ]
     },
     "execution_count": 56,
     "metadata": {},
     "output_type": "execute_result"
    }
   ],
   "source": [
    "feature_test_sm.columns"
   ]
  },
  {
   "cell_type": "code",
   "execution_count": 57,
   "metadata": {
    "scrolled": true
   },
   "outputs": [
    {
     "name": "stdout",
     "output_type": "stream",
     "text": [
      "V1\n",
      "Score for test:\n",
      "0.7811749718261551\n",
      "Score for test treatment:\n",
      "0.756096672334224\n",
      "V2\n",
      "Score for test:\n",
      "0.9034249595766574\n",
      "Score for test treatment:\n",
      "0.8880495506436725\n",
      "V3\n",
      "Score for test:\n",
      "0.5289578127296781\n",
      "Score for test treatment:\n",
      "0.5238644644158368\n",
      "V4\n",
      "Score for test:\n",
      "0.622347983732667\n",
      "Score for test treatment:\n",
      "0.6427374301675978\n",
      "V5\n",
      "Score for test:\n",
      "0.8111862413641041\n",
      "Score for test treatment:\n",
      "0.7939883410250183\n",
      "V6\n",
      "Score for test:\n",
      "0.7747807339899064\n",
      "Score for test treatment:\n",
      "0.7562302647558902\n",
      "V7\n",
      "Score for test:\n",
      "0.7101033857611838\n",
      "Score for test treatment:\n",
      "0.696417294146223\n"
     ]
    }
   ],
   "source": [
    "test_scores = []\n",
    "test_treatment_scores = []\n",
    "for column in feature_test_sm.columns:\n",
    "    print(column)\n",
    "    TREE = tree.DecisionTreeClassifier()\n",
    "    TREE.fit(feature_train_sm.drop(column,axis = 1),\n",
    "             label_train_sm)\n",
    "    \n",
    "    print('Score for test:')\n",
    "    test_score = TREE.score(feature_test_treat_sm.drop(column,axis = 1),\n",
    "                     label_test_treat_sm)\n",
    "    print(test_score)\n",
    "    test_scores.append(test_score)\n",
    "    \n",
    "    \n",
    "    print('Score for test treatment:')\n",
    "    test_treatment_score = TREE.score(feature_test_sm.drop(column,axis = 1),\n",
    "                      label_test_sm)\n",
    "    print(test_treatment_score)\n",
    "    test_treatment_scores.append(test_treatment_score)"
   ]
  },
  {
   "cell_type": "code",
   "execution_count": 58,
   "metadata": {},
   "outputs": [],
   "source": [
    "optimization2 = pd.DataFrame()\n",
    "\n",
    "optimization2['feature drop'] = feature_test_sm.columns\n",
    "optimization2['test r_square'] = test_scores\n",
    "optimization2['test treatment r_square'] = test_treatment_scores"
   ]
  },
  {
   "cell_type": "code",
   "execution_count": 59,
   "metadata": {},
   "outputs": [
    {
     "data": {
      "text/html": [
       "<div>\n",
       "<style scoped>\n",
       "    .dataframe tbody tr th:only-of-type {\n",
       "        vertical-align: middle;\n",
       "    }\n",
       "\n",
       "    .dataframe tbody tr th {\n",
       "        vertical-align: top;\n",
       "    }\n",
       "\n",
       "    .dataframe thead th {\n",
       "        text-align: right;\n",
       "    }\n",
       "</style>\n",
       "<table border=\"1\" class=\"dataframe\">\n",
       "  <thead>\n",
       "    <tr style=\"text-align: right;\">\n",
       "      <th></th>\n",
       "      <th>feature drop</th>\n",
       "      <th>test r_square</th>\n",
       "      <th>test treatment r_square</th>\n",
       "    </tr>\n",
       "  </thead>\n",
       "  <tbody>\n",
       "    <tr>\n",
       "      <th>1</th>\n",
       "      <td>V2</td>\n",
       "      <td>0.903425</td>\n",
       "      <td>0.888050</td>\n",
       "    </tr>\n",
       "    <tr>\n",
       "      <th>4</th>\n",
       "      <td>V5</td>\n",
       "      <td>0.811186</td>\n",
       "      <td>0.793988</td>\n",
       "    </tr>\n",
       "    <tr>\n",
       "      <th>0</th>\n",
       "      <td>V1</td>\n",
       "      <td>0.781175</td>\n",
       "      <td>0.756097</td>\n",
       "    </tr>\n",
       "    <tr>\n",
       "      <th>5</th>\n",
       "      <td>V6</td>\n",
       "      <td>0.774781</td>\n",
       "      <td>0.756230</td>\n",
       "    </tr>\n",
       "    <tr>\n",
       "      <th>6</th>\n",
       "      <td>V7</td>\n",
       "      <td>0.710103</td>\n",
       "      <td>0.696417</td>\n",
       "    </tr>\n",
       "    <tr>\n",
       "      <th>3</th>\n",
       "      <td>V4</td>\n",
       "      <td>0.622348</td>\n",
       "      <td>0.642737</td>\n",
       "    </tr>\n",
       "    <tr>\n",
       "      <th>2</th>\n",
       "      <td>V3</td>\n",
       "      <td>0.528958</td>\n",
       "      <td>0.523864</td>\n",
       "    </tr>\n",
       "  </tbody>\n",
       "</table>\n",
       "</div>"
      ],
      "text/plain": [
       "  feature drop  test r_square  test treatment r_square\n",
       "1           V2       0.903425                 0.888050\n",
       "4           V5       0.811186                 0.793988\n",
       "0           V1       0.781175                 0.756097\n",
       "5           V6       0.774781                 0.756230\n",
       "6           V7       0.710103                 0.696417\n",
       "3           V4       0.622348                 0.642737\n",
       "2           V3       0.528958                 0.523864"
      ]
     },
     "execution_count": 59,
     "metadata": {},
     "output_type": "execute_result"
    }
   ],
   "source": [
    "optimization2.sort_values(by = ['test r_square'],\n",
    "                          ascending = False)"
   ]
  },
  {
   "cell_type": "markdown",
   "metadata": {},
   "source": [
    "#### seems like drop V2 will let the model return the best Score"
   ]
  },
  {
   "cell_type": "code",
   "execution_count": 60,
   "metadata": {},
   "outputs": [
    {
     "data": {
      "text/plain": [
       "DecisionTreeClassifier()"
      ]
     },
     "execution_count": 60,
     "metadata": {},
     "output_type": "execute_result"
    }
   ],
   "source": [
    "TREE = tree.DecisionTreeClassifier()\n",
    "TREE.fit(feature_train_sm.drop(['V2'],axis = 1),\n",
    "         label_train_sm)"
   ]
  },
  {
   "cell_type": "code",
   "execution_count": 61,
   "metadata": {},
   "outputs": [
    {
     "name": "stdout",
     "output_type": "stream",
     "text": [
      "              precision    recall  f1-score   support\n",
      "\n",
      "           0       0.83      0.98      0.90     41170\n",
      "           1       0.97      0.80      0.88     41170\n",
      "\n",
      "    accuracy                           0.89     82340\n",
      "   macro avg       0.90      0.89      0.89     82340\n",
      "weighted avg       0.90      0.89      0.89     82340\n",
      "\n"
     ]
    }
   ],
   "source": [
    "pred = TREE.predict(feature_test_sm.drop(['V2'],axis = 1))\n",
    "\n",
    "# Print classification report on test data\n",
    "print(classification_report(label_test_sm,\n",
    "                            pred))"
   ]
  },
  {
   "cell_type": "code",
   "execution_count": 62,
   "metadata": {},
   "outputs": [
    {
     "name": "stdout",
     "output_type": "stream",
     "text": [
      "              precision    recall  f1-score   support\n",
      "\n",
      "           0       0.85      0.98      0.91     20409\n",
      "           1       0.97      0.83      0.90     20409\n",
      "\n",
      "    accuracy                           0.90     40818\n",
      "   macro avg       0.91      0.90      0.90     40818\n",
      "weighted avg       0.91      0.90      0.90     40818\n",
      "\n"
     ]
    }
   ],
   "source": [
    "pred = TREE.predict(feature_test_treat_sm.drop(['V2'],axis = 1))\n",
    "\n",
    "# Print classification report on test data\n",
    "print(classification_report(label_test_treat_sm,\n",
    "                            pred))\n"
   ]
  },
  {
   "cell_type": "markdown",
   "metadata": {},
   "source": [
    "### 14. save the model"
   ]
  },
  {
   "cell_type": "code",
   "execution_count": 63,
   "metadata": {},
   "outputs": [
    {
     "data": {
      "text/plain": [
       "['D:\\\\金融股票\\\\教程代码\\\\all project from udacity\\\\StarBucks\\\\data\\\\ML_Model']"
      ]
     },
     "execution_count": 63,
     "metadata": {},
     "output_type": "execute_result"
    }
   ],
   "source": [
    "# save the mode\n",
    "model_path = r'D:\\金融股票\\教程代码\\all project from udacity\\StarBucks\\jupyter'\n",
    "joblib.dump(TREE,path + '\\ML_Model')"
   ]
  },
  {
   "cell_type": "markdown",
   "metadata": {},
   "source": [
    "# As a conclusion we a model that can predict 0 and 1 at score over 0.85. So everything the company can just input feature to decide whether or not the give out promotion for it's customer"
   ]
  },
  {
   "cell_type": "markdown",
   "metadata": {},
   "source": [
    "### 15. load the model"
   ]
  },
  {
   "cell_type": "code",
   "execution_count": 64,
   "metadata": {},
   "outputs": [
    {
     "data": {
      "text/plain": [
       "DecisionTreeClassifier()"
      ]
     },
     "execution_count": 64,
     "metadata": {},
     "output_type": "execute_result"
    }
   ],
   "source": [
    "model = joblib.load(model_path + '\\ML_Model')\n",
    "\n",
    "model"
   ]
  },
  {
   "cell_type": "markdown",
   "metadata": {},
   "source": [
    "### 16. find: \n",
    "#### 1. IRR,\n",
    "#### 2. NIR,\n",
    "#### 3. total revenue = purchase * 10 - cust * 0.15\n",
    "#### 4. total revenue treat = purchase * 10 - cust * 0.15 | treat\n",
    "#### 5. total revenue control = purchase * 10 - cust * 0.15 | control"
   ]
  },
  {
   "cell_type": "code",
   "execution_count": 65,
   "metadata": {},
   "outputs": [],
   "source": [
    "def get(df):\n",
    "    '''\n",
    "    input: dataframe\n",
    "    \n",
    "    return:\n",
    "    IRR,NIR,total revenue,total revenue treat,total revenue control \n",
    "    '''\n",
    "    purch = df.query('purchase == 1').count()[0]\n",
    "    cust = df.query('purchase == 0').count()[0]\n",
    "\n",
    "    treat = df.query('Promotion == \"Yes\"')\n",
    "    ctrl = df.query('Promotion == \"No\"')\n",
    "\n",
    "    purch_treat = treat.query('purchase == 1').count()[0]\n",
    "    cust_treat = treat.query('purchase == 0').count()[0]\n",
    "\n",
    "    purch_ctrl = ctrl.query('purchase == 1').count()[0]\n",
    "    cust_ctrl = ctrl.query('purchase == 0').count()[0]\n",
    "\n",
    "    IRR = purch_treat/cust_treat - purch_ctrl/cust_ctrl\n",
    "    NIR = (10 * purch_treat - 0.15 * cust_treat) - 10 * purch_ctrl\n",
    "    total_rev = purch * 10 - cust * 0.15\n",
    "    total_rev_treat = 10 * purch_treat - 0.15 * cust_treat\n",
    "    total_rev_ctrl = 10 * purch_ctrl - 0.15 * cust_ctrl\n",
    "    \n",
    "    print('IRR:',IRR)\n",
    "    print('NIR:',NIR)\n",
    "    print('total_rev:',total_rev)\n",
    "    print('total_rev_treat:',total_rev_treat)\n",
    "    print('total_rev_ctrl:',total_rev_ctrl)\n",
    "    \n",
    "def score(df, promo_pred_col = 'Promotion'):\n",
    "    n_treat       = df.loc[df[promo_pred_col] == 'Yes',:].shape[0]\n",
    "    n_control     = df.loc[df[promo_pred_col] == 'No',:].shape[0]\n",
    "    n_treat_purch = df.loc[df[promo_pred_col] == 'Yes', 'purchase'].sum()\n",
    "    n_ctrl_purch  = df.loc[df[promo_pred_col] == 'No', 'purchase'].sum()\n",
    "    irr = n_treat_purch / n_treat - n_ctrl_purch / n_control\n",
    "    nir = 10 * n_treat_purch - 0.15 * n_treat - 10 * n_ctrl_purch\n",
    "    return (irr, nir)"
   ]
  },
  {
   "cell_type": "code",
   "execution_count": 66,
   "metadata": {},
   "outputs": [
    {
     "name": "stdout",
     "output_type": "stream",
     "text": [
      "IRR: 0.009818738609887603\n",
      "NIR: -1081.35\n",
      "total_rev: -1375.5\n",
      "total_rev_treat: 328.6500000000001\n",
      "total_rev_ctrl: -1704.15\n"
     ]
    }
   ],
   "source": [
    "get(test)"
   ]
  },
  {
   "cell_type": "code",
   "execution_count": 67,
   "metadata": {},
   "outputs": [
    {
     "data": {
      "text/plain": [
       "(0.009593158278250108, -1132.1999999999998)"
      ]
     },
     "execution_count": 67,
     "metadata": {},
     "output_type": "execute_result"
    }
   ],
   "source": [
    "score(test)"
   ]
  },
  {
   "cell_type": "markdown",
   "metadata": {},
   "source": [
    "### 17. find: \n",
    "#### 1. IRR,\n",
    "#### 2. NIR,\n",
    "#### 3. total revenue = purchase * 10 - cust * 0.15\n",
    "#### 4. total revenue treat = purchase * 10 - cust * 0.15 | treat\n",
    "#### 5. total revenue control = purchase * 10 - cust * 0.15 | control\n",
    "### with model\n"
   ]
  },
  {
   "cell_type": "code",
   "execution_count": 68,
   "metadata": {},
   "outputs": [
    {
     "name": "stdout",
     "output_type": "stream",
     "text": [
      "(41650, 10)\n"
     ]
    }
   ],
   "source": [
    "test_model = test.copy()\n",
    "feature = test_model.iloc[:,3:]\n",
    "label = test_model['purchase']\n",
    "\n",
    "print(test_model.shape)"
   ]
  },
  {
   "cell_type": "code",
   "execution_count": 69,
   "metadata": {},
   "outputs": [
    {
     "data": {
      "text/plain": [
       "array([0, 0, 0, ..., 0, 0, 0], dtype=int64)"
      ]
     },
     "execution_count": 69,
     "metadata": {},
     "output_type": "execute_result"
    }
   ],
   "source": [
    "pred = model.predict(feature.drop(['V2'],axis = 1))\n",
    "\n",
    "pred"
   ]
  },
  {
   "cell_type": "code",
   "execution_count": 70,
   "metadata": {},
   "outputs": [
    {
     "data": {
      "text/html": [
       "<div>\n",
       "<style scoped>\n",
       "    .dataframe tbody tr th:only-of-type {\n",
       "        vertical-align: middle;\n",
       "    }\n",
       "\n",
       "    .dataframe tbody tr th {\n",
       "        vertical-align: top;\n",
       "    }\n",
       "\n",
       "    .dataframe thead th {\n",
       "        text-align: right;\n",
       "    }\n",
       "</style>\n",
       "<table border=\"1\" class=\"dataframe\">\n",
       "  <thead>\n",
       "    <tr style=\"text-align: right;\">\n",
       "      <th></th>\n",
       "      <th>ID</th>\n",
       "      <th>Promotion</th>\n",
       "      <th>purchase</th>\n",
       "      <th>V1</th>\n",
       "      <th>V2</th>\n",
       "      <th>V3</th>\n",
       "      <th>V4</th>\n",
       "      <th>V5</th>\n",
       "      <th>V6</th>\n",
       "      <th>V7</th>\n",
       "      <th>pred</th>\n",
       "    </tr>\n",
       "  </thead>\n",
       "  <tbody>\n",
       "    <tr>\n",
       "      <th>0</th>\n",
       "      <td>2</td>\n",
       "      <td>No</td>\n",
       "      <td>0</td>\n",
       "      <td>1</td>\n",
       "      <td>41.376390</td>\n",
       "      <td>1.172517</td>\n",
       "      <td>1</td>\n",
       "      <td>1</td>\n",
       "      <td>2</td>\n",
       "      <td>2</td>\n",
       "      <td>0</td>\n",
       "    </tr>\n",
       "    <tr>\n",
       "      <th>1</th>\n",
       "      <td>6</td>\n",
       "      <td>Yes</td>\n",
       "      <td>0</td>\n",
       "      <td>1</td>\n",
       "      <td>25.163598</td>\n",
       "      <td>0.653050</td>\n",
       "      <td>2</td>\n",
       "      <td>2</td>\n",
       "      <td>2</td>\n",
       "      <td>2</td>\n",
       "      <td>0</td>\n",
       "    </tr>\n",
       "    <tr>\n",
       "      <th>2</th>\n",
       "      <td>7</td>\n",
       "      <td>Yes</td>\n",
       "      <td>0</td>\n",
       "      <td>1</td>\n",
       "      <td>26.553778</td>\n",
       "      <td>-1.597972</td>\n",
       "      <td>2</td>\n",
       "      <td>3</td>\n",
       "      <td>4</td>\n",
       "      <td>2</td>\n",
       "      <td>0</td>\n",
       "    </tr>\n",
       "    <tr>\n",
       "      <th>3</th>\n",
       "      <td>10</td>\n",
       "      <td>No</td>\n",
       "      <td>0</td>\n",
       "      <td>2</td>\n",
       "      <td>28.529691</td>\n",
       "      <td>-1.078506</td>\n",
       "      <td>2</td>\n",
       "      <td>3</td>\n",
       "      <td>2</td>\n",
       "      <td>2</td>\n",
       "      <td>0</td>\n",
       "    </tr>\n",
       "    <tr>\n",
       "      <th>4</th>\n",
       "      <td>12</td>\n",
       "      <td>No</td>\n",
       "      <td>0</td>\n",
       "      <td>2</td>\n",
       "      <td>32.378538</td>\n",
       "      <td>0.479895</td>\n",
       "      <td>2</td>\n",
       "      <td>2</td>\n",
       "      <td>1</td>\n",
       "      <td>2</td>\n",
       "      <td>0</td>\n",
       "    </tr>\n",
       "  </tbody>\n",
       "</table>\n",
       "</div>"
      ],
      "text/plain": [
       "   ID Promotion  purchase  V1         V2        V3  V4  V5  V6  V7  pred\n",
       "0   2        No         0   1  41.376390  1.172517   1   1   2   2     0\n",
       "1   6       Yes         0   1  25.163598  0.653050   2   2   2   2     0\n",
       "2   7       Yes         0   1  26.553778 -1.597972   2   3   4   2     0\n",
       "3  10        No         0   2  28.529691 -1.078506   2   3   2   2     0\n",
       "4  12        No         0   2  32.378538  0.479895   2   2   1   2     0"
      ]
     },
     "execution_count": 70,
     "metadata": {},
     "output_type": "execute_result"
    }
   ],
   "source": [
    "test_model['pred'] = pred\n",
    "\n",
    "test_model.head()"
   ]
  },
  {
   "cell_type": "code",
   "execution_count": 71,
   "metadata": {},
   "outputs": [
    {
     "name": "stdout",
     "output_type": "stream",
     "text": [
      "(1018, 11)\n"
     ]
    },
    {
     "data": {
      "text/html": [
       "<div>\n",
       "<style scoped>\n",
       "    .dataframe tbody tr th:only-of-type {\n",
       "        vertical-align: middle;\n",
       "    }\n",
       "\n",
       "    .dataframe tbody tr th {\n",
       "        vertical-align: top;\n",
       "    }\n",
       "\n",
       "    .dataframe thead th {\n",
       "        text-align: right;\n",
       "    }\n",
       "</style>\n",
       "<table border=\"1\" class=\"dataframe\">\n",
       "  <thead>\n",
       "    <tr style=\"text-align: right;\">\n",
       "      <th></th>\n",
       "      <th>ID</th>\n",
       "      <th>Promotion</th>\n",
       "      <th>purchase</th>\n",
       "      <th>V1</th>\n",
       "      <th>V2</th>\n",
       "      <th>V3</th>\n",
       "      <th>V4</th>\n",
       "      <th>V5</th>\n",
       "      <th>V6</th>\n",
       "      <th>V7</th>\n",
       "      <th>pred</th>\n",
       "    </tr>\n",
       "  </thead>\n",
       "  <tbody>\n",
       "    <tr>\n",
       "      <th>61</th>\n",
       "      <td>190</td>\n",
       "      <td>No</td>\n",
       "      <td>0</td>\n",
       "      <td>2</td>\n",
       "      <td>38.695264</td>\n",
       "      <td>-0.299306</td>\n",
       "      <td>2</td>\n",
       "      <td>3</td>\n",
       "      <td>2</td>\n",
       "      <td>2</td>\n",
       "      <td>1</td>\n",
       "    </tr>\n",
       "    <tr>\n",
       "      <th>91</th>\n",
       "      <td>270</td>\n",
       "      <td>Yes</td>\n",
       "      <td>0</td>\n",
       "      <td>2</td>\n",
       "      <td>22.069883</td>\n",
       "      <td>-1.251661</td>\n",
       "      <td>2</td>\n",
       "      <td>1</td>\n",
       "      <td>1</td>\n",
       "      <td>1</td>\n",
       "      <td>1</td>\n",
       "    </tr>\n",
       "    <tr>\n",
       "      <th>113</th>\n",
       "      <td>327</td>\n",
       "      <td>No</td>\n",
       "      <td>0</td>\n",
       "      <td>2</td>\n",
       "      <td>36.343207</td>\n",
       "      <td>-1.684550</td>\n",
       "      <td>2</td>\n",
       "      <td>2</td>\n",
       "      <td>3</td>\n",
       "      <td>1</td>\n",
       "      <td>1</td>\n",
       "    </tr>\n",
       "    <tr>\n",
       "      <th>155</th>\n",
       "      <td>457</td>\n",
       "      <td>No</td>\n",
       "      <td>0</td>\n",
       "      <td>1</td>\n",
       "      <td>31.561406</td>\n",
       "      <td>0.393317</td>\n",
       "      <td>2</td>\n",
       "      <td>3</td>\n",
       "      <td>3</td>\n",
       "      <td>2</td>\n",
       "      <td>1</td>\n",
       "    </tr>\n",
       "    <tr>\n",
       "      <th>181</th>\n",
       "      <td>535</td>\n",
       "      <td>No</td>\n",
       "      <td>0</td>\n",
       "      <td>1</td>\n",
       "      <td>29.326448</td>\n",
       "      <td>0.479895</td>\n",
       "      <td>2</td>\n",
       "      <td>3</td>\n",
       "      <td>2</td>\n",
       "      <td>2</td>\n",
       "      <td>1</td>\n",
       "    </tr>\n",
       "  </tbody>\n",
       "</table>\n",
       "</div>"
      ],
      "text/plain": [
       "      ID Promotion  purchase  V1         V2        V3  V4  V5  V6  V7  pred\n",
       "61   190        No         0   2  38.695264 -0.299306   2   3   2   2     1\n",
       "91   270       Yes         0   2  22.069883 -1.251661   2   1   1   1     1\n",
       "113  327        No         0   2  36.343207 -1.684550   2   2   3   1     1\n",
       "155  457        No         0   1  31.561406  0.393317   2   3   3   2     1\n",
       "181  535        No         0   1  29.326448  0.479895   2   3   2   2     1"
      ]
     },
     "execution_count": 71,
     "metadata": {},
     "output_type": "execute_result"
    }
   ],
   "source": [
    "df_test = test_model[test_model['pred'] == 1]\n",
    "\n",
    "print(df_test.shape)\n",
    "df_test.head()"
   ]
  },
  {
   "cell_type": "code",
   "execution_count": 72,
   "metadata": {},
   "outputs": [
    {
     "name": "stdout",
     "output_type": "stream",
     "text": [
      "IRR: 0.011610414966312993\n",
      "NIR: -21.549999999999997\n",
      "total_rev: 19.849999999999994\n",
      "total_rev_treat: 38.45\n",
      "total_rev_ctrl: -18.599999999999994\n"
     ]
    }
   ],
   "source": [
    "get(df_test)"
   ]
  },
  {
   "cell_type": "code",
   "execution_count": 73,
   "metadata": {},
   "outputs": [
    {
     "data": {
      "text/plain": [
       "(0.011220228889576246, -23.200000000000003)"
      ]
     },
     "execution_count": 73,
     "metadata": {},
     "output_type": "execute_result"
    }
   ],
   "source": [
    "score(df_test)"
   ]
  },
  {
   "cell_type": "markdown",
   "metadata": {},
   "source": [
    "### 18. conclusion\n",
    "\n",
    "As a result of model, we get see that over all outcome get improve. In the total_rev_treat section the reveune decreased and this may due to that model is more strict on filter out customer who is qualitfie for getting a promotion"
   ]
  },
  {
   "cell_type": "code",
   "execution_count": null,
   "metadata": {},
   "outputs": [],
   "source": []
  },
  {
   "cell_type": "code",
   "execution_count": null,
   "metadata": {},
   "outputs": [],
   "source": []
  },
  {
   "cell_type": "code",
   "execution_count": null,
   "metadata": {},
   "outputs": [],
   "source": []
  },
  {
   "cell_type": "markdown",
   "metadata": {},
   "source": [
    "### 19. For Udacity required answer"
   ]
  },
  {
   "cell_type": "code",
   "execution_count": 77,
   "metadata": {},
   "outputs": [],
   "source": [
    "def test_results(promotion_strategy):\n",
    "    test_data = pd.read_csv(path + '\\Test.csv')\n",
    "    df = test_data[['V1', 'V2', 'V3', 'V4', 'V5', 'V6', 'V7']]\n",
    "    promos = promotion_strategy(df)\n",
    "    score_df = test_data.iloc[np.where(promos == 1)]    \n",
    "    irr, nir = score(score_df)\n",
    "    print(\"Nice job!  See how well your strategy worked on our test data below!\")\n",
    "    print()\n",
    "    print('Your irr with this strategy is {:0.4f}.'.format(irr))\n",
    "    print()\n",
    "    print('Your nir with this strategy is {:0.2f}.'.format(nir))\n",
    "    \n",
    "    print(\"We came up with a model with an irr of {} and an nir of {} on the test set.\\n\\n How did you do?\".format(0.0188, 189.45))\n",
    "    return irr, nir"
   ]
  },
  {
   "cell_type": "code",
   "execution_count": 78,
   "metadata": {},
   "outputs": [],
   "source": [
    "def promotion_strategy(df):\n",
    "    '''\n",
    "    INPUT \n",
    "    df - a dataframe with *only* the columns V1 - V7 (same as train_data)\n",
    "\n",
    "    OUTPUT\n",
    "    promotion_df - np.array with the values\n",
    "                   'Yes' or 'No' related to whether or not an \n",
    "                   individual should recieve a promotion \n",
    "                   should be the length of df.shape[0]\n",
    "                \n",
    "    Ex:\n",
    "    INPUT: df\n",
    "    \n",
    "    V1\tV2\t  V3\tV4\tV5\tV6\tV7\n",
    "    2\t30\t-1.1\t1\t1\t3\t2\n",
    "    3\t32\t-0.6\t2\t3\t2\t2\n",
    "    2\t30\t0.13\t1\t1\t4\t2\n",
    "    \n",
    "    OUTPUT: promotion\n",
    "    \n",
    "    array(['Yes', 'Yes', 'No'])\n",
    "    indicating the first two users would recieve the promotion and \n",
    "    the last should not.\n",
    "    '''\n",
    "    pred = model.predict(df.drop(['V2'],axis = 1))\n",
    "    promotion = pred\n",
    "    \n",
    "    \n",
    "    \n",
    "    return promotion"
   ]
  },
  {
   "cell_type": "code",
   "execution_count": 79,
   "metadata": {},
   "outputs": [
    {
     "name": "stdout",
     "output_type": "stream",
     "text": [
      "Nice job!  See how well your strategy worked on our test data below!\n",
      "\n",
      "Your irr with this strategy is 0.0112.\n",
      "\n",
      "Your nir with this strategy is -23.20.\n",
      "We came up with a model with an irr of 0.0188 and an nir of 189.45 on the test set.\n",
      "\n",
      " How did you do?\n"
     ]
    },
    {
     "data": {
      "text/plain": [
       "(0.011220228889576246, -23.200000000000003)"
      ]
     },
     "execution_count": 79,
     "metadata": {},
     "output_type": "execute_result"
    }
   ],
   "source": [
    "# This will test your results, and provide you back some information \n",
    "# on how well your promotion_strategy will work in practice\n",
    "\n",
    "test_results(promotion_strategy)"
   ]
  },
  {
   "cell_type": "code",
   "execution_count": null,
   "metadata": {},
   "outputs": [],
   "source": []
  },
  {
   "cell_type": "code",
   "execution_count": null,
   "metadata": {},
   "outputs": [],
   "source": []
  },
  {
   "cell_type": "code",
   "execution_count": null,
   "metadata": {},
   "outputs": [],
   "source": []
  }
 ],
 "metadata": {
  "kernelspec": {
   "display_name": "Python 3 (ipykernel)",
   "language": "python",
   "name": "python3"
  },
  "language_info": {
   "codemirror_mode": {
    "name": "ipython",
    "version": 3
   },
   "file_extension": ".py",
   "mimetype": "text/x-python",
   "name": "python",
   "nbconvert_exporter": "python",
   "pygments_lexer": "ipython3",
   "version": "3.8.11"
  }
 },
 "nbformat": 4,
 "nbformat_minor": 2
}
